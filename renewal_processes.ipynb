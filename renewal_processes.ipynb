{
 "cells": [
  {
   "cell_type": "markdown",
   "metadata": {},
   "source": [
    "# Renewal Processes\n",
    "\n",
    "A renewal process is a type of a stochastic or a random process. "
   ]
  },
  {
   "cell_type": "markdown",
   "metadata": {},
   "source": [
    "### Definition: Stochastic Process\n",
    "Assume $(\\Omega, \\mathcal{F}, \\mathbb{P})$, where $\\Omega$ - a sample space, $ \\mathcal{F}$ - a $\\sigma$-algebra and $\\mathbb{P}$ - a probability measure.\n",
    "\n",
    "Then $X(t, \\Omega) \\rightarrow \\mathbb{R}$ is a **random process** if $X(t, \\cdot)$ is a random variable for each $t$.\n",
    "### Definition: Renewal Process\n",
    "$S_n$ is a **renewal process** if $S_0 = 0$ and $S_n = S_{n-1} + \\xi_n$, where $\\xi_1, \\xi_2 \\cdots$ are IID random variables with $\\mathbb{P}(\\xi_i >0) = 1$ for each $i$.\n",
    "### Definition: Counting Process\n",
    "A **counting process** $N_t$ of a renewal process $S_t$ is defined such that $N_t = max_{k}(S_k \\leq t).$\n",
    "\n",
    "*Example: A counting process is the number of customers in the store, the renewal process marks the times they enter into the store. The random variable $\\xi_i$ of the renewal process is the time between the $i$-1-th customer and the $i$-th customer.*\n",
    "\n",
    "*Example: Number of stock jumps, there $\\xi_i$ is the time between the $i$-1-th and the $i$-th jump.*\n"
   ]
  },
  {
   "cell_type": "code",
   "execution_count": 36,
   "metadata": {
    "scrolled": false
   },
   "outputs": [
    {
     "data": {
      "image/png": "[encoded data removed]",
      "text/plain": [
       "<matplotlib.figure.Figure at 0x7f17e9ee6080>"
      ]
     },
     "metadata": {
      "needs_background": "light"
     },
     "output_type": "display_data"
    }
   ],
   "source": [
    "import numpy as np\n",
    "import pandas as pd\n",
    "import matplotlib.pyplot as plt\n",
    "import random as rd\n",
    "from scipy import stats\n",
    "import math as math\n",
    "import time\n",
    "\n",
    "t0 = time.time()\n",
    "\n",
    "%matplotlib inline\n",
    "\n",
    "N = 100\n",
    "M = 10000\n",
    "UNIT = 0.1\n",
    "\n",
    "#Let's create a distribution of the times between the customers\n",
    "def generate():\n",
    "    if True:\n",
    "        p_x = [rd.expovariate(1) for i in range(N)]\n",
    "        return p_x\n",
    "    if False:\n",
    "        p_x = [rd.expovariate(1)*0.5 + 0.5 *rd.expovariate(2)  for i in range(N)]\n",
    "        return p_x\n",
    "plt.hist(generate(), bins=50);\n",
    "#Histogram of the dist used"
   ]
  },
  {
   "cell_type": "code",
   "execution_count": 37,
   "metadata": {
    "scrolled": true
   },
   "outputs": [
    {
     "data": {
      "text/plain": [
       "<matplotlib.axes._subplots.AxesSubplot at 0x7f17e22208d0>"
      ]
     },
     "execution_count": 37,
     "metadata": {},
     "output_type": "execute_result"
    },
    {
     "data": {
      "image/png": "[encoded data removed]",
      "text/plain": [
       "<matplotlib.figure.Figure at 0x7f17e9f3cdd8>"
      ]
     },
     "metadata": {
      "needs_background": "light"
     },
     "output_type": "display_data"
    }
   ],
   "source": [
    "#Let's plot the counting process, based on the distribution above.\n",
    "p_x = generate()\n",
    "df = pd.DataFrame(p_x, columns = [\"xi\"])\n",
    "df[\"sn\"] = df.xi.cumsum()\n",
    "df[\"n\"] = [i for i in range(N)]\n",
    "df.loc[0] = [0,0,0]\n",
    "df.head()\n",
    "df.plot(drawstyle=\"steps-post\", x = \"sn\", y = \"n\")\n",
    "#x axis is the time, everytime s_i increases to s_i+1, n (on y axis) increases by 1"
   ]
  },
  {
   "cell_type": "code",
   "execution_count": null,
   "metadata": {},
   "outputs": [],
   "source": [
    "#add more generated counting processes\n",
    "ct = pd.DataFrame()\n",
    "ct[\"n\"] = [i for i in range(N)]\n",
    "for i in range(M):\n",
    "    x = \"x\" + str(i)\n",
    "    sn = \"s\" + str(i)\n",
    "    df[x] = generate()\n",
    "    ct[sn] = df[x].cumsum()\n",
    "ct.plot(drawstyle=\"steps-post\", x = \"n\", legend = False)"
   ]
  },
  {
   "cell_type": "code",
   "execution_count": null,
   "metadata": {
    "scrolled": true
   },
   "outputs": [],
   "source": [
    "def exp_n(t):\n",
    "    replace = ct[\"n\"]\n",
    "    ct.drop(columns=\"n\")    \n",
    "    ar = np.array(ct.values.tolist())\n",
    "    sm = np.where(ar <= t, 1, 0).tolist()\n",
    "    ct[\"n\"] = replace\n",
    "    return np.sum(sm)/M\n",
    "\n",
    "#expected value of n at time t using MC\n",
    "exp = pd.DataFrame()\n",
    "exp[\"t\"] = np.arange(1, 0.5*ct.max().max(),1)\n",
    "exp[\"val\"+str(M)] = [exp_n(t) for t in exp[\"t\"]]\n",
    "exp.plot(x = \"t\", y = [\"val\"+str(M)]).set_aspect('equal', adjustable='box')\n",
    "\n"
   ]
  },
  {
   "cell_type": "markdown",
   "metadata": {},
   "source": [
    "### How to calculate the expected value of the counting process analitically?\n",
    "Above, we calcualted the expected value using Monte Carlo simulations. \n",
    "Now, let's compute it!\n",
    "\n",
    "The computation involves 3 steps and some Laplace transforms [(What this?)](https://en.wikipedia.org/wiki/Laplace_transform).\n",
    "\n",
    "1. Compute the Laplace transform $\\mathcal{L}_p(s)$ of $p_{\\xi_i}(x)$.\n",
    "\n",
    "2. Transform the Laplace transform of $p_{\\xi_i}(x)$ to  $\\mathcal{L}_{U}(s) = \\frac{\\mathcal{L}_{U}(s)}{s(1-\\mathcal{L}_{U}(s))}$.\n",
    "3. Find the function $U(t)$ from the $\\mathcal{L}_{U}(s)$. (*The most difficult!*)\n",
    "\n",
    "*Example:*\n",
    "Let $S_n = S_{n-1} + \\xi_n$ be a renewal process with $\\xi_1, \\xi_2, \\dots$ IID random variables with an exponential distribution: $p_{\\xi_i}(x) = \\lambda e^{- \\lambda x}$. What is the expected value of the $N_t$ counting process of the renewal process $S_n$?\n",
    "\n",
    "1. $\\mathcal{L}_p(s) = \\int_0^\\infty \\lambda e^{- \\lambda x} e^{-s x} dx = \\lambda \\int_0^\\infty e^{- (\\lambda +s)x} dx  = \\frac{- \\lambda}{\\lambda + s} e^{- (\\lambda +s)x} \\Big|_0^\\infty = \\frac{\\lambda}{\\lambda +s}$\n",
    "\n",
    "2. $\\mathcal{L}_{U}(s) = \\frac{\\mathcal{L}_{U}(s)}{s(1-\\mathcal{L}_{U}(s))} = \\frac{\\frac{\\lambda}{\\lambda +s}}{s(1-\\frac{\\lambda}{\\lambda +s})} = \\frac{\\lambda}{s^2}$\n",
    "\n",
    "3. $\\mathcal{L}_{U}(s) \\rightarrow U(t) = \\lambda t.$ "
   ]
  },
  {
   "cell_type": "code",
   "execution_count": null,
   "metadata": {},
   "outputs": [],
   "source": [
    "#example lambda = 1\n",
    "def u(t, l = 1):\n",
    "    return l * t\n",
    "exp[\"u\"] = [u(t) for t in exp[\"t\"]]\n",
    "exp[\"diff\"] = exp[\"val\"+str(M)] - exp[\"u\"]\n",
    "\n",
    "t1 = time.time()\n",
    "total = t1-t0"
   ]
  },
  {
   "cell_type": "code",
   "execution_count": null,
   "metadata": {
    "scrolled": false
   },
   "outputs": [],
   "source": [
    "#Observe the error of the MC method\n",
    "#plot both expected value using MC and the precise calculation\n",
    "exp.plot(x = \"t\", y = [\"val\"+str(M), \"u\"]).set_aspect('equal', adjustable='box')\n",
    "#plot the difference between the MC and precise calculation\n",
    "exp.plot(x = \"t\", y = \"diff\")"
   ]
  },
  {
   "cell_type": "code",
   "execution_count": 35,
   "metadata": {},
   "outputs": [
    {
     "data": {
      "text/plain": [
       "261.3866231441498"
      ]
     },
     "execution_count": 35,
     "metadata": {},
     "output_type": "execute_result"
    }
   ],
   "source": [
    "total"
   ]
  },
  {
   "cell_type": "code",
   "execution_count": null,
   "metadata": {},
   "outputs": [],
   "source": []
  }
 ],
 "metadata": {
  "kernelspec": {
   "display_name": "Python 3",
   "language": "python",
   "name": "python3"
  },
  "language_info": {
   "codemirror_mode": {
    "name": "ipython",
    "version": 3
   },
   "file_extension": ".py",
   "mimetype": "text/x-python",
   "name": "python",
   "nbconvert_exporter": "python",
   "pygments_lexer": "ipython3",
   "version": "3.6.8"
  }
 },
 "nbformat": 4,
 "nbformat_minor": 2
}
